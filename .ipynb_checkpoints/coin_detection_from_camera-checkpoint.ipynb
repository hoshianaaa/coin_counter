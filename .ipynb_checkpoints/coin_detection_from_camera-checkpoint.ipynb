{
 "cells": [
  {
   "cell_type": "code",
   "execution_count": 3,
   "metadata": {},
   "outputs": [],
   "source": [
    "def extract_coin(img):\n",
    "    bgrLower = np.array([0, 0, 250])    # 抽出する色の下限(BGR)\n",
    "    bgrUpper = np.array([180, 180, 255])    # 抽出する色の上限(BGR)\n",
    "    img_mask = cv2.inRange(img, bgrLower, bgrUpper) # BGRからマスクを作成\n",
    "    bin_img = cv2.bitwise_not(img_mask)\n",
    "    cv2.cvtColor(bin_img, cv2.COLOR_BGR2RGB)\n",
    "    return bin_img"
   ]
  },
  {
   "cell_type": "code",
   "execution_count": 4,
   "metadata": {},
   "outputs": [],
   "source": [
    "#5円,50円の穴埋め\n",
    "def fill_circle(bin_img):\n",
    "    hole_list = []\n",
    "    circles = cv2.HoughCircles(bin_img, cv2.HOUGH_GRADIENT, 1, 10, param1=8, param2=8, minRadius=0, maxRadius=10)\n",
    "    try:\n",
    "        if (circles!=None).any():\n",
    "            circles = np.uint16(np.around(circles))\n",
    "            for i in circles[0,:]:\n",
    "                cv2.circle(bin_img,(i[0],i[1]),i[2]*2,255,-1)\n",
    "                hole_list.append([i[0],i[1]])\n",
    "    except:\n",
    "        pass\n",
    "    \n",
    "    return hole_list"
   ]
  },
  {
   "cell_type": "code",
   "execution_count": 5,
   "metadata": {},
   "outputs": [],
   "source": [
    "def calc_hole_coins(centroids, hole_list):\n",
    "    hole_coins = []\n",
    "\n",
    "    for i in range(len(hole_list)): \n",
    "        index = 0\n",
    "        min_d = 10000\n",
    "        for j in range(len(centroids)-1):\n",
    "            center = centroids[j+1]\n",
    "            d = np.sqrt(pow((hole_list[i][0] - center[0]),2) + pow((hole_list[i][1] - center[1]),2))\n",
    "            if min_d > d:\n",
    "                min_d = d\n",
    "                index = j+1\n",
    "        hole_coins.append(index)\n",
    "        \n",
    "    return hole_coins"
   ]
  },
  {
   "cell_type": "code",
   "execution_count": 6,
   "metadata": {},
   "outputs": [],
   "source": [
    "#ピクセル量閾値 5200以下:1円玉  8000以上:500円玉\n",
    "#coin 100 と 10: blue > 150 で 100\n",
    "\n",
    "def coin_classification(counts, centroids, markers, img, hole_coins):\n",
    "\n",
    "    one_coin_th = 5200\n",
    "    five_hundred_coin_th = 8000\n",
    "    blue_th = 150\n",
    "\n",
    "    coins = []\n",
    "\n",
    "    for i in range(len(counts)-2):\n",
    "        center = centroids[i+1]\n",
    "        count = counts[i+2]\n",
    "        text = \"\"\n",
    "    \n",
    "        blue_avg = np.average(img[markers == i+2], axis = 0)[0]\n",
    "    \n",
    "        if hole_coins.count(i+1) > 0:\n",
    "            if blue_avg > blue_th:\n",
    "                text = \"50\"\n",
    "                coins.append(50)\n",
    "            else:\n",
    "                text = \"5\"\n",
    "                coins.append(5)\n",
    "        \n",
    "        elif count < one_coin_th:\n",
    "            text = \"1\"\n",
    "            coins.append(1)\n",
    "        elif count > five_hundred_coin_th:\n",
    "            text = \"500\"\n",
    "            coins.append(500)\n",
    "        else:\n",
    "            if blue_avg > blue_th:\n",
    "                text = \"100\"\n",
    "                coins.append(100)\n",
    "            else:\n",
    "                text = \"10\"\n",
    "                coins.append(10)\n",
    "        size = 0.5\n",
    "        cv2.putText(img, text, (int(center[0]), int(center[1])), cv2.FONT_HERSHEY_SIMPLEX, size, (0, 0, 0), thickness=2)\n",
    "    return coins\n",
    "\n"
   ]
  },
  {
   "cell_type": "code",
   "execution_count": 7,
   "metadata": {},
   "outputs": [],
   "source": [
    " def calc_total_amount(coins, img):\n",
    "    text = []\n",
    "    sum = 0\n",
    "    text.append(\"1yen:\" +  str(coins.count(1)))\n",
    "    sum += coins.count(1) * 1\n",
    "    text.append(\"5yen:\" +  str(coins.count(1)))\n",
    "    sum += coins.count(5) * 5\n",
    "    text.append(\"10yen:\" + str(coins.count(10)))\n",
    "    sum += coins.count(10) * 10\n",
    "    text.append(\"50yen:\" + str(coins.count(1)))\n",
    "    sum += coins.count(50) * 50\n",
    "    text.append(\"100yen:\" + str(coins.count(100)))\n",
    "    sum += coins.count(100) * 100\n",
    "    text.append(\"500yen:\" + str(coins.count(500)))\n",
    "    sum += coins.count(500) * 500\n",
    "    text.append(\"sum:\" +  str(sum) + \"yen\")\n",
    "    \n",
    "    size = 0.5\n",
    "    for i in range(7):\n",
    "        cv2.putText(img, text[i], (30, 30+i*20), cv2.FONT_HERSHEY_SIMPLEX, size, (255, 255, 255), thickness=2)"
   ]
  },
  {
   "cell_type": "code",
   "execution_count": 11,
   "metadata": {},
   "outputs": [],
   "source": [
    "def main(img):\n",
    "    bin_img = extract_coin(img)\n",
    "    hole_list = fill_circle(bin_img)\n",
    "    kernel = np.ones((3,3),np.uint8)\n",
    "    opening = cv2.morphologyEx(bin_img,cv2.MORPH_OPEN,kernel,iterations = 2)\n",
    "    sure_bg = cv2.dilate(opening,kernel,iterations=2)\n",
    "    dist_transform = cv2.distanceTransform(opening,cv2.DIST_L2,5)\n",
    "    ret, sure_fg = cv2.threshold(dist_transform,0.5*dist_transform.max(),255,0)\n",
    "    sure_fg = np.uint8(sure_fg)\n",
    "    unknown = cv2.subtract(sure_bg,sure_fg)\n",
    "    ret, markers, stats, centroids  = cv2.connectedComponentsWithStats(sure_fg)\n",
    "    markers = markers+1\n",
    "    markers[unknown==255] = 0\n",
    "    markers = cv2.watershed(img,markers)\n",
    "    label, counts = np.unique(markers,return_counts=True)\n",
    "    if (len(counts) - len(centroids) > 1):\n",
    "        return False\n",
    "    hole_coins = calc_hole_coins(centroids, hole_list)\n",
    "    coins = coin_classification(counts, centroids, markers, img, hole_coins)\n",
    "    calc_total_amount(coins, img)\n",
    "    img[markers == -1] = [255,0,0]"
   ]
  },
  {
   "cell_type": "code",
   "execution_count": 12,
   "metadata": {},
   "outputs": [
    {
     "name": "stderr",
     "output_type": "stream",
     "text": [
      "C:\\Users\\hoshi\\Anaconda3\\lib\\site-packages\\numpy\\lib\\function_base.py:392: RuntimeWarning: Mean of empty slice.\n",
      "  avg = a.mean(axis)\n",
      "C:\\Users\\hoshi\\Anaconda3\\lib\\site-packages\\numpy\\core\\_methods.py:78: RuntimeWarning: invalid value encountered in true_divide\n",
      "  ret, rcount, out=ret, casting='unsafe', subok=False)\n"
     ]
    }
   ],
   "source": [
    "%matplotlib inline  \n",
    "import cv2\n",
    "import numpy as np\n",
    "from matplotlib import pyplot as plt\n",
    "\n",
    "device_id = 1\n",
    "cap = cv2.VideoCapture(device_id)\n",
    "\n",
    "while True:\n",
    "    \n",
    "    ret, frame = cap.read()\n",
    "\n",
    "    if not ret:\n",
    "        print(\"not find camera\")\n",
    "        break\n",
    "        \n",
    "    height = frame.shape[0]\n",
    "    width = frame.shape[1]   \n",
    "    \n",
    "    frame = frame[60:height-60, 0:width]\n",
    "    main(frame)\n",
    "    cv2.imshow(\"frame\",frame)\n",
    "    if cv2.waitKey(1) & 0xFF == ord(\"q\"):\n",
    "        break  # q キーを押したら終了する。\n",
    "        \n",
    "    if cv2.waitKey(1) & 0xFF == ord(\"w\"):\n",
    "        break  # w キーを押したら終了する。\n",
    "        \n",
    "cap.release()\n",
    "cv2.destroyAllWindows()"
   ]
  },
  {
   "cell_type": "code",
   "execution_count": null,
   "metadata": {},
   "outputs": [],
   "source": []
  }
 ],
 "metadata": {
  "kernelspec": {
   "display_name": "Python 3",
   "language": "python",
   "name": "python3"
  },
  "language_info": {
   "codemirror_mode": {
    "name": "ipython",
    "version": 3
   },
   "file_extension": ".py",
   "mimetype": "text/x-python",
   "name": "python",
   "nbconvert_exporter": "python",
   "pygments_lexer": "ipython3",
   "version": "3.7.4"
  }
 },
 "nbformat": 4,
 "nbformat_minor": 2
}
